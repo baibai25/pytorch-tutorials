{
 "cells": [
  {
   "cell_type": "code",
   "execution_count": 1,
   "id": "caf53af1-112d-4a01-8bd8-d30df5f45193",
   "metadata": {},
   "outputs": [],
   "source": [
    "import torch\n",
    "from torch import nn\n",
    "from torch.utils.data import DataLoader\n",
    "from torchvision import datasets\n",
    "from torchvision.transforms import ToTensor"
   ]
  },
  {
   "cell_type": "code",
   "execution_count": 2,
   "id": "b26e49f9-36a8-4d3b-8d2d-e7a9273182fa",
   "metadata": {},
   "outputs": [],
   "source": [
    "import numpy as np"
   ]
  },
  {
   "cell_type": "markdown",
   "id": "67a5cc1b-ba60-41ee-b249-c4eaa62aaf1b",
   "metadata": {},
   "source": [
    "## Working with data\n"
   ]
  },
  {
   "cell_type": "code",
   "execution_count": 3,
   "id": "8538c966-1e7a-4356-984d-b1a72afcbce5",
   "metadata": {},
   "outputs": [],
   "source": [
    "# Download training data from open datasets.\n",
    "training_data = datasets.FashionMNIST(\n",
    "    root=\"data\",\n",
    "    train=True,\n",
    "    download=True,\n",
    "    transform=ToTensor(),\n",
    ")\n",
    "\n",
    "# Download test data from open datasets.\n",
    "test_data = datasets.FashionMNIST(\n",
    "    root=\"data\",\n",
    "    train=False,\n",
    "    download=True,\n",
    "    transform=ToTensor(),\n",
    ")"
   ]
  },
  {
   "cell_type": "code",
   "execution_count": 4,
   "id": "f3a84830-2006-47b8-9065-04f592445e96",
   "metadata": {},
   "outputs": [
    {
     "name": "stdout",
     "output_type": "stream",
     "text": [
      "Shape of X [N, C, H, W]: torch.Size([64, 1, 28, 28])\n",
      "Shape of y: torch.Size([64]) torch.int64\n"
     ]
    }
   ],
   "source": [
    "batch_size = 64\n",
    "\n",
    "# Create data loaders.\n",
    "train_dataloader = DataLoader(training_data, batch_size=batch_size)\n",
    "test_dataloader = DataLoader(test_data, batch_size=batch_size)\n",
    "\n",
    "for X, y in test_dataloader:\n",
    "    print(f\"Shape of X [N, C, H, W]: {X.shape}\")\n",
    "    print(f\"Shape of y: {y.shape} {y.dtype}\")\n",
    "    break"
   ]
  },
  {
   "cell_type": "code",
   "execution_count": 5,
   "id": "56cbf99c-f88e-4207-8a19-ce8ed27fd49c",
   "metadata": {},
   "outputs": [
    {
     "data": {
      "text/plain": [
       "'\\nN: number of instaces\\nC: channel?\\nH: height\\nW: width\\n'"
      ]
     },
     "execution_count": 5,
     "metadata": {},
     "output_type": "execute_result"
    }
   ],
   "source": [
    "\"\"\"\n",
    "N: number of instaces\n",
    "C: channel?\n",
    "H: height\n",
    "W: width\n",
    "\"\"\""
   ]
  },
  {
   "cell_type": "markdown",
   "id": "107a8f4b-dd7e-47e9-94d9-4eaa15a8fee9",
   "metadata": {},
   "source": [
    "## Creating Models\n"
   ]
  },
  {
   "cell_type": "code",
   "execution_count": 6,
   "id": "174fd81d-1637-4aac-a074-7d3e5ebed2c3",
   "metadata": {},
   "outputs": [
    {
     "name": "stdout",
     "output_type": "stream",
     "text": [
      "torch.Size([3, 28, 28])\n"
     ]
    }
   ],
   "source": [
    "# simple situation\n",
    "# Ref. https://pytorch.org/tutorials/beginner/basics/buildmodel_tutorial.html\n",
    "input_image = torch.rand(3, 28, 28)\n",
    "print(input_image.size())"
   ]
  },
  {
   "cell_type": "code",
   "execution_count": 7,
   "id": "e656e0bf-89d8-460d-b5a3-f61eb43bd871",
   "metadata": {},
   "outputs": [
    {
     "name": "stdout",
     "output_type": "stream",
     "text": [
      "torch.Size([3, 784])\n",
      "tensor([[0.2292, 0.3757, 0.7355,  ..., 0.7391, 0.0550, 0.7842],\n",
      "        [0.7867, 0.9777, 0.0794,  ..., 0.0380, 0.9203, 0.0961],\n",
      "        [0.1402, 0.2499, 0.3389,  ..., 0.2852, 0.3338, 0.5547]])\n"
     ]
    }
   ],
   "source": [
    "# flatten -> [3, 28*28]\n",
    "flatten = nn.Flatten()\n",
    "flat_image = flatten(input_image)\n",
    "print(flat_image.size())\n",
    "print(flat_image)"
   ]
  },
  {
   "cell_type": "code",
   "execution_count": 8,
   "id": "8ded0a86-1679-4de3-9865-31ab63e73fbe",
   "metadata": {},
   "outputs": [
    {
     "name": "stdout",
     "output_type": "stream",
     "text": [
      "torch.Size([3, 20])\n",
      "tensor([[ 0.0995,  0.4850, -0.3284, -0.7079, -0.3284, -0.1363,  0.1216,  0.0284,\n",
      "         -0.1739, -0.3476,  0.4148, -0.0874, -0.4659, -0.1714, -0.1387, -0.2730,\n",
      "         -0.0262,  0.0690,  0.0445,  0.3326],\n",
      "        [-0.0581,  0.2906, -0.1834, -0.3370, -0.4961,  0.0802,  0.3361,  0.1041,\n",
      "         -0.1488, -0.3711,  0.1129, -0.1280, -0.3948, -0.5283,  0.1670, -0.3716,\n",
      "          0.1771, -0.1842,  0.0365,  0.0681],\n",
      "        [ 0.0605,  0.1450, -0.0365, -0.5387, -0.3598,  0.2369,  0.1396, -0.0736,\n",
      "         -0.1854, -0.3234,  0.1599, -0.1212, -0.4196, -0.2987, -0.0711, -0.2420,\n",
      "          0.2051, -0.4523,  0.1903,  0.0351]], grad_fn=<AddmmBackward0>)\n"
     ]
    }
   ],
   "source": [
    "# value * weight\n",
    "layer1 = nn.Linear(in_features=28 * 28, out_features=20)  # fully connected\n",
    "hidden1 = layer1(flat_image)  # linear transformation (calc hiddlen unit value)\n",
    "print(hidden1.size())\n",
    "print(hidden1)"
   ]
  },
  {
   "cell_type": "code",
   "execution_count": 9,
   "id": "38dcfa83-5b13-4e35-ba51-6183a2e2d9fe",
   "metadata": {},
   "outputs": [
    {
     "name": "stdout",
     "output_type": "stream",
     "text": [
      "torch.Size([20, 784])\n",
      "Parameter containing:\n",
      "tensor([[-0.0058, -0.0111, -0.0012,  ..., -0.0049,  0.0096,  0.0224],\n",
      "        [-0.0283,  0.0021, -0.0329,  ..., -0.0265, -0.0109,  0.0253],\n",
      "        [ 0.0242, -0.0110,  0.0323,  ..., -0.0162, -0.0244,  0.0133],\n",
      "        ...,\n",
      "        [ 0.0223, -0.0017,  0.0133,  ..., -0.0186,  0.0326,  0.0133],\n",
      "        [-0.0295, -0.0273,  0.0248,  ...,  0.0249,  0.0084,  0.0029],\n",
      "        [ 0.0216,  0.0187,  0.0274,  ...,  0.0231,  0.0193, -0.0230]],\n",
      "       requires_grad=True)\n",
      "Parameter containing:\n",
      "tensor([ 0.0184, -0.0219, -0.0164,  0.0269, -0.0312,  0.0355, -0.0018, -0.0248,\n",
      "         0.0198, -0.0067, -0.0168, -0.0241,  0.0089,  0.0005,  0.0198, -0.0155,\n",
      "         0.0142,  0.0143, -0.0290,  0.0346], requires_grad=True)\n"
     ]
    }
   ],
   "source": [
    "# weight\n",
    "print(layer1.weight.shape)\n",
    "print(layer1.weight)\n",
    "\n",
    "# bias\n",
    "print(layer1.bias)"
   ]
  },
  {
   "cell_type": "code",
   "execution_count": 10,
   "id": "fcd12224-6abb-466f-823e-5a1d5f7bd0b3",
   "metadata": {},
   "outputs": [
    {
     "name": "stdout",
     "output_type": "stream",
     "text": [
      "tensor([[0.0995, 0.4850, 0.0000, 0.0000, 0.0000, 0.0000, 0.1216, 0.0284, 0.0000,\n",
      "         0.0000, 0.4148, 0.0000, 0.0000, 0.0000, 0.0000, 0.0000, 0.0000, 0.0690,\n",
      "         0.0445, 0.3326],\n",
      "        [0.0000, 0.2906, 0.0000, 0.0000, 0.0000, 0.0802, 0.3361, 0.1041, 0.0000,\n",
      "         0.0000, 0.1129, 0.0000, 0.0000, 0.0000, 0.1670, 0.0000, 0.1771, 0.0000,\n",
      "         0.0365, 0.0681],\n",
      "        [0.0605, 0.1450, 0.0000, 0.0000, 0.0000, 0.2369, 0.1396, 0.0000, 0.0000,\n",
      "         0.0000, 0.1599, 0.0000, 0.0000, 0.0000, 0.0000, 0.0000, 0.2051, 0.0000,\n",
      "         0.1903, 0.0351]], grad_fn=<ReluBackward0>)\n",
      "compare: \n",
      " [[0.09951689 0.4849548  0.         0.         0.         0.\n",
      "  0.12164748 0.02840686 0.         0.         0.41483328 0.\n",
      "  0.         0.         0.         0.         0.         0.06903677\n",
      "  0.0445093  0.33258596]\n",
      " [0.         0.29062638 0.         0.         0.         0.08020182\n",
      "  0.3360821  0.10405582 0.         0.         0.11287315 0.\n",
      "  0.         0.         0.16699418 0.         0.17711927 0.\n",
      "  0.03653737 0.06810489]\n",
      " [0.06052738 0.144981   0.         0.         0.         0.23688251\n",
      "  0.13957238 0.         0.         0.         0.15993224 0.\n",
      "  0.         0.         0.         0.         0.20508029 0.\n",
      "  0.19026119 0.03509742]]\n"
     ]
    }
   ],
   "source": [
    "# ReLU\n",
    "hidden_activate = nn.ReLU()(hidden1)\n",
    "print(hidden_activate)\n",
    "\n",
    "\n",
    "# compare\n",
    "def relu(x):\n",
    "    return np.maximum(0, x)\n",
    "\n",
    "\n",
    "print(\"compare: \\n\", relu(hidden1.detach().numpy()))"
   ]
  },
  {
   "cell_type": "code",
   "execution_count": 11,
   "id": "90da4157-1675-48ab-97d8-e6c62152c1fe",
   "metadata": {},
   "outputs": [
    {
     "name": "stdout",
     "output_type": "stream",
     "text": [
      "Using cpu device\n",
      "NeuralNetwork(\n",
      "  (flatten): Flatten(start_dim=1, end_dim=-1)\n",
      "  (linear_relu_stack): Sequential(\n",
      "    (0): Linear(in_features=784, out_features=512, bias=True)\n",
      "    (1): ReLU()\n",
      "    (2): Linear(in_features=512, out_features=512, bias=True)\n",
      "    (3): ReLU()\n",
      "    (4): Linear(in_features=512, out_features=10, bias=True)\n",
      "  )\n",
      ")\n"
     ]
    }
   ],
   "source": [
    "# Get cpu or gpu device for training.\n",
    "device = \"cuda\" if torch.cuda.is_available() else \"cpu\"\n",
    "print(f\"Using {device} device\")\n",
    "\n",
    "# Define model\n",
    "\"\"\"\n",
    "To define a neural network in PyTorch, we create a class that inherits from nn.Module.\n",
    "We define the layers of the network in the __init__ function and specify how data will pass through the network in the forward function. \n",
    "\"\"\"\n",
    "\n",
    "\n",
    "class NeuralNetwork(nn.Module):\n",
    "    def __init__(self):\n",
    "        super(NeuralNetwork, self).__init__()\n",
    "        self.flatten = nn.Flatten()\n",
    "        self.linear_relu_stack = nn.Sequential(\n",
    "            nn.Linear(28 * 28, 512),\n",
    "            nn.ReLU(),\n",
    "            nn.Linear(512, 512),\n",
    "            nn.ReLU(),\n",
    "            nn.Linear(512, 10),\n",
    "        )\n",
    "\n",
    "    def forward(self, x):\n",
    "        x = self.flatten(x)\n",
    "        logits = self.linear_relu_stack(x)\n",
    "        return logits\n",
    "\n",
    "\n",
    "model = NeuralNetwork().to(device)\n",
    "print(model)"
   ]
  },
  {
   "cell_type": "markdown",
   "id": "f4c12120-bd2e-4e74-890f-b00d24a6e1b4",
   "metadata": {},
   "source": [
    "## Optimizing the Model Parameters\n"
   ]
  },
  {
   "cell_type": "code",
   "execution_count": 12,
   "id": "fb5dfad4-dc1f-4a0f-8e3f-8fe8e2a162c5",
   "metadata": {},
   "outputs": [],
   "source": [
    "# define loss and optimizer\n",
    "loss_fn = nn.CrossEntropyLoss()\n",
    "optimizer = torch.optim.SGD(model.parameters(), lr=1e-3)"
   ]
  },
  {
   "cell_type": "code",
   "execution_count": 13,
   "id": "ba40b6ed-9e45-4e2c-b801-398bf950df56",
   "metadata": {},
   "outputs": [],
   "source": [
    "def train(dataloader, model, loss_fn, optimizer):\n",
    "    size = len(dataloader.dataset)\n",
    "    model.train()\n",
    "\n",
    "    for batch, (X, y) in enumerate(dataloader):\n",
    "        X, y = X.to(device), y.to(device)\n",
    "\n",
    "        # Compute prediction error\n",
    "        pred = model(X)\n",
    "        loss = loss_fn(pred, y)\n",
    "\n",
    "        # Backpropagation\n",
    "        optimizer.zero_grad()\n",
    "        loss.backward()\n",
    "        optimizer.step()\n",
    "\n",
    "        if batch % 100 == 0:\n",
    "            loss, current = loss.item(), batch * len(X)\n",
    "            print(f\"loss: {loss:>7f}  [{current:>5d}/{size:>5d}]\")"
   ]
  },
  {
   "cell_type": "code",
   "execution_count": 14,
   "id": "34e24f24-d06b-4694-b5a1-d843789844c1",
   "metadata": {},
   "outputs": [],
   "source": [
    "def test(dataloader, model, loss_fn):\n",
    "    size = len(dataloader.dataset)\n",
    "    num_batches = len(dataloader)\n",
    "    model.eval()\n",
    "    test_loss, correct = 0, 0\n",
    "\n",
    "    with torch.no_grad():\n",
    "        for X, y in dataloader:\n",
    "            X, y = X.to(device), y.to(device)\n",
    "            pred = model(X)\n",
    "            test_loss += loss_fn(pred, y).item()\n",
    "            correct += (pred.argmax(1) == y).type(torch.float).sum().item()\n",
    "\n",
    "    test_loss /= num_batches\n",
    "    correct /= size\n",
    "\n",
    "    print(\n",
    "        f\"Test Error: \\n Accuracy: {(100*correct):>0.1f}%, Avg loss: {test_loss:>8f} \\n\"\n",
    "    )"
   ]
  },
  {
   "cell_type": "code",
   "execution_count": 15,
   "id": "692760a9-4d02-4029-a911-e5a57884d308",
   "metadata": {},
   "outputs": [
    {
     "name": "stdout",
     "output_type": "stream",
     "text": [
      "Epoch 1\n",
      "-------------------------------\n",
      "loss: 2.292758  [    0/60000]\n",
      "loss: 2.279260  [ 6400/60000]\n",
      "loss: 2.256767  [12800/60000]\n",
      "loss: 2.253330  [19200/60000]\n",
      "loss: 2.236565  [25600/60000]\n",
      "loss: 2.202304  [32000/60000]\n",
      "loss: 2.220580  [38400/60000]\n",
      "loss: 2.181467  [44800/60000]\n",
      "loss: 2.179981  [51200/60000]\n",
      "loss: 2.142879  [57600/60000]\n",
      "Test Error: \n",
      " Accuracy: 44.3%, Avg loss: 2.137590 \n",
      "\n",
      "Epoch 2\n",
      "-------------------------------\n",
      "loss: 2.151827  [    0/60000]\n",
      "loss: 2.140122  [ 6400/60000]\n",
      "loss: 2.077626  [12800/60000]\n",
      "loss: 2.089816  [19200/60000]\n",
      "loss: 2.036995  [25600/60000]\n",
      "loss: 1.976463  [32000/60000]\n",
      "loss: 2.004828  [38400/60000]\n",
      "loss: 1.930176  [44800/60000]\n",
      "loss: 1.938018  [51200/60000]\n",
      "loss: 1.841922  [57600/60000]\n",
      "Test Error: \n",
      " Accuracy: 56.9%, Avg loss: 1.850392 \n",
      "\n",
      "Epoch 3\n",
      "-------------------------------\n",
      "loss: 1.894083  [    0/60000]\n",
      "loss: 1.859828  [ 6400/60000]\n",
      "loss: 1.739984  [12800/60000]\n",
      "loss: 1.767245  [19200/60000]\n",
      "loss: 1.658980  [25600/60000]\n",
      "loss: 1.619920  [32000/60000]\n",
      "loss: 1.632883  [38400/60000]\n",
      "loss: 1.552348  [44800/60000]\n",
      "loss: 1.572742  [51200/60000]\n",
      "loss: 1.450704  [57600/60000]\n",
      "Test Error: \n",
      " Accuracy: 60.3%, Avg loss: 1.480332 \n",
      "\n",
      "Epoch 4\n",
      "-------------------------------\n",
      "loss: 1.553201  [    0/60000]\n",
      "loss: 1.520485  [ 6400/60000]\n",
      "loss: 1.373316  [12800/60000]\n",
      "loss: 1.431073  [19200/60000]\n",
      "loss: 1.315929  [25600/60000]\n",
      "loss: 1.322041  [32000/60000]\n",
      "loss: 1.332927  [38400/60000]\n",
      "loss: 1.271429  [44800/60000]\n",
      "loss: 1.302811  [51200/60000]\n",
      "loss: 1.197855  [57600/60000]\n",
      "Test Error: \n",
      " Accuracy: 63.3%, Avg loss: 1.226832 \n",
      "\n",
      "Epoch 5\n",
      "-------------------------------\n",
      "loss: 1.302789  [    0/60000]\n",
      "loss: 1.290065  [ 6400/60000]\n",
      "loss: 1.126531  [12800/60000]\n",
      "loss: 1.221576  [19200/60000]\n",
      "loss: 1.099638  [25600/60000]\n",
      "loss: 1.130110  [32000/60000]\n",
      "loss: 1.154053  [38400/60000]\n",
      "loss: 1.099644  [44800/60000]\n",
      "loss: 1.137567  [51200/60000]\n",
      "loss: 1.050566  [57600/60000]\n",
      "Test Error: \n",
      " Accuracy: 64.9%, Avg loss: 1.072006 \n",
      "\n",
      "Done!\n"
     ]
    }
   ],
   "source": [
    "epochs = 5\n",
    "\n",
    "for t in range(epochs):\n",
    "    print(f\"Epoch {t+1}\\n-------------------------------\")\n",
    "    train(train_dataloader, model, loss_fn, optimizer)\n",
    "    test(test_dataloader, model, loss_fn)\n",
    "\n",
    "print(\"Done!\")"
   ]
  },
  {
   "cell_type": "markdown",
   "id": "fbde72b0-147b-407b-930e-b19956a035e0",
   "metadata": {},
   "source": [
    "## Saving and Loding Models"
   ]
  },
  {
   "cell_type": "code",
   "execution_count": 16,
   "id": "2fa59c99-c73b-43d7-ba8f-1838a6e746e4",
   "metadata": {},
   "outputs": [],
   "source": [
    "# torch.save(model.state_dict(), \"model.pth\")\n",
    "# print(\"Saved PyTorch Model State to model.pth\")\n",
    "\n",
    "# model = NeuralNetwork()\n",
    "# model.load_state_dict(torch.load(\"model.pth\"))"
   ]
  },
  {
   "cell_type": "code",
   "execution_count": 17,
   "id": "b7bac10c-5530-43ae-a009-c7ba9a3c6315",
   "metadata": {},
   "outputs": [
    {
     "name": "stdout",
     "output_type": "stream",
     "text": [
      "Predicted: \"Ankle boot\", Actual: \"Ankle boot\"\n"
     ]
    }
   ],
   "source": [
    "classes = [\n",
    "    \"T-shirt/top\",\n",
    "    \"Trouser\",\n",
    "    \"Pullover\",\n",
    "    \"Dress\",\n",
    "    \"Coat\",\n",
    "    \"Sandal\",\n",
    "    \"Shirt\",\n",
    "    \"Sneaker\",\n",
    "    \"Bag\",\n",
    "    \"Ankle boot\",\n",
    "]\n",
    "\n",
    "model.eval()\n",
    "x, y = test_data[0][0], test_data[0][1]\n",
    "with torch.no_grad():\n",
    "    pred = model(x)\n",
    "    predicted, actual = classes[pred[0].argmax(0)], classes[y]\n",
    "    print(f'Predicted: \"{predicted}\", Actual: \"{actual}\"')"
   ]
  }
 ],
 "metadata": {
  "kernelspec": {
   "display_name": "Python 3 (ipykernel)",
   "language": "python",
   "name": "python3"
  },
  "language_info": {
   "codemirror_mode": {
    "name": "ipython",
    "version": 3
   },
   "file_extension": ".py",
   "mimetype": "text/x-python",
   "name": "python",
   "nbconvert_exporter": "python",
   "pygments_lexer": "ipython3",
   "version": "3.8.13"
  }
 },
 "nbformat": 4,
 "nbformat_minor": 5
}
